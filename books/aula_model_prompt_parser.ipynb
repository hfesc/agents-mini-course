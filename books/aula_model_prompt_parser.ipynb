{
 "cells": [
  {
   "cell_type": "markdown",
   "id": "073bf8f9",
   "metadata": {},
   "source": [
    "# LangChain: Models, Prompts and Output Parsers\n",
    "\n",
    "\n",
    "## Outline\n",
    "\n",
    " * Direct API calls to OpenAI\n",
    " * API calls through LangChain:\n",
    "   * Prompts\n",
    "   * Models\n",
    "   * Output parsers"
   ]
  },
  {
   "cell_type": "markdown",
   "id": "a01ff606",
   "metadata": {},
   "source": [
    "## Get your [OpenAI API Key](https://platform.openai.com/account/api-keys)"
   ]
  },
  {
   "cell_type": "code",
   "execution_count": null,
   "id": "70aa2619",
   "metadata": {
    "tags": []
   },
   "outputs": [],
   "source": [
    "#!pip install python-dotenv\n",
    "#!pip install openai"
   ]
  },
  {
   "cell_type": "code",
   "execution_count": 1,
   "id": "b7ed03ed-1322-49e3-b2a2-33e94fb592ef",
   "metadata": {
    "tags": []
   },
   "outputs": [],
   "source": [
    "import os\n",
    "import openai\n",
    "from utils import format_message, show_prompt\n",
    "\n",
    "\n",
    "from dotenv import load_dotenv, find_dotenv\n",
    "_ = load_dotenv(find_dotenv()) # read local .env file\n",
    "openai.api_key = os.environ['OPENAI_API_KEY']"
   ]
  },
  {
   "cell_type": "markdown",
   "id": "719a92fb-8227-4513-8950-c965b822c425",
   "metadata": {},
   "source": [
    "Note: LLM's do not always produce the same results. When executing the code in your notebook, you may get slightly different answers that those in the video."
   ]
  },
  {
   "cell_type": "code",
   "execution_count": 2,
   "id": "4336d784-65c2-4a11-8489-b445b1fad177",
   "metadata": {},
   "outputs": [],
   "source": [
    "# Set the model variable based on the current date\n",
    "llm_model = \"gpt-4o-mini\""
   ]
  },
  {
   "cell_type": "markdown",
   "id": "bbad9cdb",
   "metadata": {},
   "source": [
    "## Chat API : OpenAI\n",
    "\n",
    "Let's start with a direct API calls to OpenAI."
   ]
  },
  {
   "cell_type": "code",
   "execution_count": 3,
   "id": "484bfa6a",
   "metadata": {
    "tags": []
   },
   "outputs": [],
   "source": [
    "\n",
    "client = openai.OpenAI()\n",
    "\n",
    "def get_completion(prompt, model=llm_model):\n",
    "    messages = [\n",
    "        {\n",
    "        \"role\": \"user\",\n",
    "        \"content\": prompt\n",
    "        }\n",
    "    ]\n",
    "\n",
    "    response = client.chat.completions.create(\n",
    "        model=model,\n",
    "        messages=messages,\n",
    "        temperature=0,\n",
    "    )\n",
    "\n",
    "    return response.choices[0].message.content\n"
   ]
  },
  {
   "cell_type": "code",
   "execution_count": 15,
   "id": "952e7645",
   "metadata": {},
   "outputs": [],
   "source": [
    "client = openai.OpenAI()\n",
    "\n",
    "with client.chat.completions.stream(\n",
    "    model=llm_model,\n",
    "    messages=[{\"role\": \"user\", \"content\": \"Explique brevemente o que é aprendizado de máquina.\"}],\n",
    "    temperature=0,\n",
    ") as stream:\n",
    "    for event in stream:\n",
    "        if event.type == \"message.delta\":\n",
    "            print(event.delta, end=\"\", flush=True)"
   ]
  },
  {
   "cell_type": "code",
   "execution_count": 4,
   "id": "a1d076ce",
   "metadata": {
    "tags": []
   },
   "outputs": [
    {
     "name": "stdout",
     "output_type": "stream",
     "text": [
      "Aprendizado de máquina é um subcampo da inteligência artificial que se concentra no desenvolvimento de algoritmos e modelos que permitem que os computadores aprendam a partir de dados. Em vez de serem programados explicitamente para realizar uma tarefa, os sistemas de aprendizado de máquina usam padrões e inferências a partir de dados para melhorar seu desempenho ao longo do tempo. Isso pode incluir tarefas como classificação, regressão, reconhecimento de padrões e tomada de decisões. O aprendizado de máquina é amplamente utilizado em diversas aplicações, como reconhecimento de voz, recomendação de produtos, detecção de fraudes e muito mais.\n"
     ]
    }
   ],
   "source": [
    "response = get_completion(\"Explique brevemente o que é aprendizado de máquina.\")\n",
    "print(response)"
   ]
  },
  {
   "cell_type": "code",
   "execution_count": null,
   "id": "1b32b57a",
   "metadata": {
    "tags": []
   },
   "outputs": [],
   "source": []
  },
  {
   "cell_type": "code",
   "execution_count": 5,
   "id": "18c34459",
   "metadata": {
    "tags": []
   },
   "outputs": [],
   "source": [
    "styles = [\"formal and technical\", \"casual and friendly\", \"enthusiastic and persuasive\", \"concise and to the point\", \"storytelling and engaging\"]\n",
    "tones = [\"confident\", \"empathetic\", \"urgent\", \"optimistic\", \"serious\"]"
   ]
  },
  {
   "cell_type": "code",
   "execution_count": 6,
   "id": "80b558e2",
   "metadata": {
    "tags": []
   },
   "outputs": [],
   "source": [
    "prompt_task = \"\"\"Voce é um assistente de IA que ajuda a redigir emails corporativos. Para o contexto, hoje é {date}.\n",
    "\n",
    "<Task>\n",
    "Redigir um email com base no contexto fornecido.\n",
    "</Task>\n",
    "\n",
    "O email precisa ter a seguinte estrutura básica:\n",
    "<Structure>\n",
    "1. Saudação\n",
    "2. Introdução ao problema\n",
    "3. Apresentação da solução\n",
    "4. Benefícios da solução\n",
    "5. Chamada para ação (CTA)\n",
    "6. Despedida\n",
    "</Structure>\n",
    "\"\"\"\n",
    "\n",
    "prompt_context = \"\"\"\n",
    "<Context>\n",
    "Escreva um email para um cliente corporativo com o seguinte contexto:\n",
    "{customer_email}\n",
    "O email deve ser escrito em um dos seguintes estilos: {style} e tons: {tone}.\n",
    "</Context>\n",
    "\"\"\"\n",
    "\n",
    "prompt_instructions = \"\"\"\n",
    "<Instrutions>\n",
    "Use o estilo e tom especificados para redigir o email.\n",
    "Certifique-se de que o email seja claro, profissional e adequado ao público-alvo.\n",
    "Não se esqueça de incluir um CTA (Call to Action) para agendar uma demonstração.\n",
    "Não invente informações; baseie-se apenas no contexto fornecido.\n",
    "Opcionalmente, use gatilhos mentais com autoridade, urgência, pertencimento, benefício se apropriado.\n",
    "</Instrutions>\n",
    "\"\"\"\n",
    "\n",
    "prompt_references = \"\"\"\n",
    "<Example>\n",
    "Por exemplo, um email formal e técnico com tom confiante pode ser:\n",
    "Asunto: Apresentação de Solução Avançada de Visão Computacional para Inspeção Industrial\n",
    "Prezado Sr. Silva,\n",
    "Gostaria de apresentar nossa avançada solução de visão computacional projetada para otimizar processos de inspeção industrial.\n",
    "Nossa tecnologia utiliza algoritmos de ponta para garantir precisão e eficiência, reduzindo custos operacionais.\n",
    "Ficaria honrado em agendar uma demonstração para discutir como nossa solução pode beneficiar sua empresa.\n",
    "Atenciosamente,\n",
    "João Pereira\n",
    "</Example>\n",
    "\"\"\"\n",
    "\n",
    "prompt = f\"\"\"{prompt_task}\n",
    "{prompt_context}\n",
    "{prompt_instructions}\n",
    "{prompt_references}\n",
    "\"\"\"\n"
   ]
  },
  {
   "cell_type": "code",
   "execution_count": 7,
   "id": "4c9a40d5",
   "metadata": {},
   "outputs": [
    {
     "data": {
      "text/html": [
       "<pre style=\"white-space:pre;overflow-x:auto;line-height:normal;font-family:Menlo,'DejaVu Sans Mono',consolas,'Courier New',monospace\"><span style=\"color: #000080; text-decoration-color: #000080\">╭──────────────────────────────────────────────────── </span><span style=\"color: #008000; text-decoration-color: #008000; font-weight: bold\">Prompt</span><span style=\"color: #000080; text-decoration-color: #000080\"> ─────────────────────────────────────────────────────╮</span>\n",
       "<span style=\"color: #000080; text-decoration-color: #000080\">│</span>                                                                                                                 <span style=\"color: #000080; text-decoration-color: #000080\">│</span>\n",
       "<span style=\"color: #000080; text-decoration-color: #000080\">│</span>  Voce é um assistente de IA que ajuda a redigir emails corporativos. Para o contexto, hoje é {date}.            <span style=\"color: #000080; text-decoration-color: #000080\">│</span>\n",
       "<span style=\"color: #000080; text-decoration-color: #000080\">│</span>                                                                                                                 <span style=\"color: #000080; text-decoration-color: #000080\">│</span>\n",
       "<span style=\"color: #000080; text-decoration-color: #000080\">│</span>  <span style=\"color: #000080; text-decoration-color: #000080; font-weight: bold\">&lt;Task&gt;</span>                                                                                                         <span style=\"color: #000080; text-decoration-color: #000080\">│</span>\n",
       "<span style=\"color: #000080; text-decoration-color: #000080\">│</span>  Redigir um email com base no contexto fornecido.                                                               <span style=\"color: #000080; text-decoration-color: #000080\">│</span>\n",
       "<span style=\"color: #000080; text-decoration-color: #000080\">│</span>  <span style=\"color: #000080; text-decoration-color: #000080; font-weight: bold\">&lt;/Task&gt;</span>                                                                                                        <span style=\"color: #000080; text-decoration-color: #000080\">│</span>\n",
       "<span style=\"color: #000080; text-decoration-color: #000080\">│</span>                                                                                                                 <span style=\"color: #000080; text-decoration-color: #000080\">│</span>\n",
       "<span style=\"color: #000080; text-decoration-color: #000080\">│</span>  O email precisa ter a seguinte estrutura básica:                                                               <span style=\"color: #000080; text-decoration-color: #000080\">│</span>\n",
       "<span style=\"color: #000080; text-decoration-color: #000080\">│</span>  <span style=\"color: #000080; text-decoration-color: #000080; font-weight: bold\">&lt;Structure&gt;</span>                                                                                                    <span style=\"color: #000080; text-decoration-color: #000080\">│</span>\n",
       "<span style=\"color: #000080; text-decoration-color: #000080\">│</span>  1. Saudação                                                                                                    <span style=\"color: #000080; text-decoration-color: #000080\">│</span>\n",
       "<span style=\"color: #000080; text-decoration-color: #000080\">│</span>  2. Introdução ao problema                                                                                      <span style=\"color: #000080; text-decoration-color: #000080\">│</span>\n",
       "<span style=\"color: #000080; text-decoration-color: #000080\">│</span>  3. Apresentação da solução                                                                                     <span style=\"color: #000080; text-decoration-color: #000080\">│</span>\n",
       "<span style=\"color: #000080; text-decoration-color: #000080\">│</span>  4. Benefícios da solução                                                                                       <span style=\"color: #000080; text-decoration-color: #000080\">│</span>\n",
       "<span style=\"color: #000080; text-decoration-color: #000080\">│</span>  5. Chamada para ação (CTA)                                                                                     <span style=\"color: #000080; text-decoration-color: #000080\">│</span>\n",
       "<span style=\"color: #000080; text-decoration-color: #000080\">│</span>  6. Despedida                                                                                                   <span style=\"color: #000080; text-decoration-color: #000080\">│</span>\n",
       "<span style=\"color: #000080; text-decoration-color: #000080\">│</span>  <span style=\"color: #000080; text-decoration-color: #000080; font-weight: bold\">&lt;/Structure&gt;</span>                                                                                                   <span style=\"color: #000080; text-decoration-color: #000080\">│</span>\n",
       "<span style=\"color: #000080; text-decoration-color: #000080\">│</span>                                                                                                                 <span style=\"color: #000080; text-decoration-color: #000080\">│</span>\n",
       "<span style=\"color: #000080; text-decoration-color: #000080\">│</span>                                                                                                                 <span style=\"color: #000080; text-decoration-color: #000080\">│</span>\n",
       "<span style=\"color: #000080; text-decoration-color: #000080\">│</span>  <span style=\"color: #000080; text-decoration-color: #000080; font-weight: bold\">&lt;Context&gt;</span>                                                                                                      <span style=\"color: #000080; text-decoration-color: #000080\">│</span>\n",
       "<span style=\"color: #000080; text-decoration-color: #000080\">│</span>  Escreva um email para um cliente corporativo com o seguinte contexto:                                          <span style=\"color: #000080; text-decoration-color: #000080\">│</span>\n",
       "<span style=\"color: #000080; text-decoration-color: #000080\">│</span>  {customer_email}                                                                                               <span style=\"color: #000080; text-decoration-color: #000080\">│</span>\n",
       "<span style=\"color: #000080; text-decoration-color: #000080\">│</span>  O email deve ser escrito em um dos seguintes estilos: {style} e tons: {tone}.                                  <span style=\"color: #000080; text-decoration-color: #000080\">│</span>\n",
       "<span style=\"color: #000080; text-decoration-color: #000080\">│</span>  <span style=\"color: #000080; text-decoration-color: #000080; font-weight: bold\">&lt;/Context&gt;</span>                                                                                                     <span style=\"color: #000080; text-decoration-color: #000080\">│</span>\n",
       "<span style=\"color: #000080; text-decoration-color: #000080\">│</span>                                                                                                                 <span style=\"color: #000080; text-decoration-color: #000080\">│</span>\n",
       "<span style=\"color: #000080; text-decoration-color: #000080\">│</span>                                                                                                                 <span style=\"color: #000080; text-decoration-color: #000080\">│</span>\n",
       "<span style=\"color: #000080; text-decoration-color: #000080\">│</span>  <span style=\"color: #000080; text-decoration-color: #000080; font-weight: bold\">&lt;Instrutions&gt;</span>                                                                                                  <span style=\"color: #000080; text-decoration-color: #000080\">│</span>\n",
       "<span style=\"color: #000080; text-decoration-color: #000080\">│</span>  Use o estilo e tom especificados para redigir o email.                                                         <span style=\"color: #000080; text-decoration-color: #000080\">│</span>\n",
       "<span style=\"color: #000080; text-decoration-color: #000080\">│</span>  Certifique-se de que o email seja claro, profissional e adequado ao público-alvo.                              <span style=\"color: #000080; text-decoration-color: #000080\">│</span>\n",
       "<span style=\"color: #000080; text-decoration-color: #000080\">│</span>  Não se esqueça de incluir um CTA (Call to Action) para agendar uma demonstração.                               <span style=\"color: #000080; text-decoration-color: #000080\">│</span>\n",
       "<span style=\"color: #000080; text-decoration-color: #000080\">│</span>  Não invente informações; baseie-se apenas no contexto fornecido.                                               <span style=\"color: #000080; text-decoration-color: #000080\">│</span>\n",
       "<span style=\"color: #000080; text-decoration-color: #000080\">│</span>  Opcionalmente, use gatilhos mentais com autoridade, urgência, pertencimento, benefício se apropriado.          <span style=\"color: #000080; text-decoration-color: #000080\">│</span>\n",
       "<span style=\"color: #000080; text-decoration-color: #000080\">│</span>  <span style=\"color: #000080; text-decoration-color: #000080; font-weight: bold\">&lt;/Instrutions&gt;</span>                                                                                                 <span style=\"color: #000080; text-decoration-color: #000080\">│</span>\n",
       "<span style=\"color: #000080; text-decoration-color: #000080\">│</span>                                                                                                                 <span style=\"color: #000080; text-decoration-color: #000080\">│</span>\n",
       "<span style=\"color: #000080; text-decoration-color: #000080\">│</span>                                                                                                                 <span style=\"color: #000080; text-decoration-color: #000080\">│</span>\n",
       "<span style=\"color: #000080; text-decoration-color: #000080\">│</span>  <span style=\"color: #000080; text-decoration-color: #000080; font-weight: bold\">&lt;Example&gt;</span>                                                                                                      <span style=\"color: #000080; text-decoration-color: #000080\">│</span>\n",
       "<span style=\"color: #000080; text-decoration-color: #000080\">│</span>  Por exemplo, um email formal e técnico com tom confiante pode ser:                                             <span style=\"color: #000080; text-decoration-color: #000080\">│</span>\n",
       "<span style=\"color: #000080; text-decoration-color: #000080\">│</span>  Asunto: Apresentação de Solução Avançada de Visão Computacional para Inspeção Industrial                       <span style=\"color: #000080; text-decoration-color: #000080\">│</span>\n",
       "<span style=\"color: #000080; text-decoration-color: #000080\">│</span>  Prezado Sr. Silva,                                                                                             <span style=\"color: #000080; text-decoration-color: #000080\">│</span>\n",
       "<span style=\"color: #000080; text-decoration-color: #000080\">│</span>  Gostaria de apresentar nossa avançada solução de visão computacional projetada para otimizar processos de      <span style=\"color: #000080; text-decoration-color: #000080\">│</span>\n",
       "<span style=\"color: #000080; text-decoration-color: #000080\">│</span>  inspeção industrial.                                                                                           <span style=\"color: #000080; text-decoration-color: #000080\">│</span>\n",
       "<span style=\"color: #000080; text-decoration-color: #000080\">│</span>  Nossa tecnologia utiliza algoritmos de ponta para garantir precisão e eficiência, reduzindo custos             <span style=\"color: #000080; text-decoration-color: #000080\">│</span>\n",
       "<span style=\"color: #000080; text-decoration-color: #000080\">│</span>  operacionais.                                                                                                  <span style=\"color: #000080; text-decoration-color: #000080\">│</span>\n",
       "<span style=\"color: #000080; text-decoration-color: #000080\">│</span>  Ficaria honrado em agendar uma demonstração para discutir como nossa solução pode beneficiar sua empresa.      <span style=\"color: #000080; text-decoration-color: #000080\">│</span>\n",
       "<span style=\"color: #000080; text-decoration-color: #000080\">│</span>  Atenciosamente,                                                                                                <span style=\"color: #000080; text-decoration-color: #000080\">│</span>\n",
       "<span style=\"color: #000080; text-decoration-color: #000080\">│</span>  João Pereira                                                                                                   <span style=\"color: #000080; text-decoration-color: #000080\">│</span>\n",
       "<span style=\"color: #000080; text-decoration-color: #000080\">│</span>  <span style=\"color: #000080; text-decoration-color: #000080; font-weight: bold\">&lt;/Example&gt;</span>                                                                                                     <span style=\"color: #000080; text-decoration-color: #000080\">│</span>\n",
       "<span style=\"color: #000080; text-decoration-color: #000080\">│</span>                                                                                                                 <span style=\"color: #000080; text-decoration-color: #000080\">│</span>\n",
       "<span style=\"color: #000080; text-decoration-color: #000080\">│</span>                                                                                                                 <span style=\"color: #000080; text-decoration-color: #000080\">│</span>\n",
       "<span style=\"color: #000080; text-decoration-color: #000080\">│</span>                                                                                                                 <span style=\"color: #000080; text-decoration-color: #000080\">│</span>\n",
       "<span style=\"color: #000080; text-decoration-color: #000080\">╰─────────────────────────────────────────────────────────────────────────────────────────────────────────────────╯</span>\n",
       "</pre>\n"
      ],
      "text/plain": [
       "\u001b[34m╭─\u001b[0m\u001b[34m───────────────────────────────────────────────────\u001b[0m\u001b[34m \u001b[0m\u001b[1;32mPrompt\u001b[0m\u001b[34m \u001b[0m\u001b[34m────────────────────────────────────────────────────\u001b[0m\u001b[34m─╮\u001b[0m\n",
       "\u001b[34m│\u001b[0m                                                                                                                 \u001b[34m│\u001b[0m\n",
       "\u001b[34m│\u001b[0m  Voce é um assistente de IA que ajuda a redigir emails corporativos. Para o contexto, hoje é {date}.            \u001b[34m│\u001b[0m\n",
       "\u001b[34m│\u001b[0m                                                                                                                 \u001b[34m│\u001b[0m\n",
       "\u001b[34m│\u001b[0m  \u001b[1;34m<Task>\u001b[0m                                                                                                         \u001b[34m│\u001b[0m\n",
       "\u001b[34m│\u001b[0m  Redigir um email com base no contexto fornecido.                                                               \u001b[34m│\u001b[0m\n",
       "\u001b[34m│\u001b[0m  \u001b[1;34m</Task>\u001b[0m                                                                                                        \u001b[34m│\u001b[0m\n",
       "\u001b[34m│\u001b[0m                                                                                                                 \u001b[34m│\u001b[0m\n",
       "\u001b[34m│\u001b[0m  O email precisa ter a seguinte estrutura básica:                                                               \u001b[34m│\u001b[0m\n",
       "\u001b[34m│\u001b[0m  \u001b[1;34m<Structure>\u001b[0m                                                                                                    \u001b[34m│\u001b[0m\n",
       "\u001b[34m│\u001b[0m  1. Saudação                                                                                                    \u001b[34m│\u001b[0m\n",
       "\u001b[34m│\u001b[0m  2. Introdução ao problema                                                                                      \u001b[34m│\u001b[0m\n",
       "\u001b[34m│\u001b[0m  3. Apresentação da solução                                                                                     \u001b[34m│\u001b[0m\n",
       "\u001b[34m│\u001b[0m  4. Benefícios da solução                                                                                       \u001b[34m│\u001b[0m\n",
       "\u001b[34m│\u001b[0m  5. Chamada para ação (CTA)                                                                                     \u001b[34m│\u001b[0m\n",
       "\u001b[34m│\u001b[0m  6. Despedida                                                                                                   \u001b[34m│\u001b[0m\n",
       "\u001b[34m│\u001b[0m  \u001b[1;34m</Structure>\u001b[0m                                                                                                   \u001b[34m│\u001b[0m\n",
       "\u001b[34m│\u001b[0m                                                                                                                 \u001b[34m│\u001b[0m\n",
       "\u001b[34m│\u001b[0m                                                                                                                 \u001b[34m│\u001b[0m\n",
       "\u001b[34m│\u001b[0m  \u001b[1;34m<Context>\u001b[0m                                                                                                      \u001b[34m│\u001b[0m\n",
       "\u001b[34m│\u001b[0m  Escreva um email para um cliente corporativo com o seguinte contexto:                                          \u001b[34m│\u001b[0m\n",
       "\u001b[34m│\u001b[0m  {customer_email}                                                                                               \u001b[34m│\u001b[0m\n",
       "\u001b[34m│\u001b[0m  O email deve ser escrito em um dos seguintes estilos: {style} e tons: {tone}.                                  \u001b[34m│\u001b[0m\n",
       "\u001b[34m│\u001b[0m  \u001b[1;34m</Context>\u001b[0m                                                                                                     \u001b[34m│\u001b[0m\n",
       "\u001b[34m│\u001b[0m                                                                                                                 \u001b[34m│\u001b[0m\n",
       "\u001b[34m│\u001b[0m                                                                                                                 \u001b[34m│\u001b[0m\n",
       "\u001b[34m│\u001b[0m  \u001b[1;34m<Instrutions>\u001b[0m                                                                                                  \u001b[34m│\u001b[0m\n",
       "\u001b[34m│\u001b[0m  Use o estilo e tom especificados para redigir o email.                                                         \u001b[34m│\u001b[0m\n",
       "\u001b[34m│\u001b[0m  Certifique-se de que o email seja claro, profissional e adequado ao público-alvo.                              \u001b[34m│\u001b[0m\n",
       "\u001b[34m│\u001b[0m  Não se esqueça de incluir um CTA (Call to Action) para agendar uma demonstração.                               \u001b[34m│\u001b[0m\n",
       "\u001b[34m│\u001b[0m  Não invente informações; baseie-se apenas no contexto fornecido.                                               \u001b[34m│\u001b[0m\n",
       "\u001b[34m│\u001b[0m  Opcionalmente, use gatilhos mentais com autoridade, urgência, pertencimento, benefício se apropriado.          \u001b[34m│\u001b[0m\n",
       "\u001b[34m│\u001b[0m  \u001b[1;34m</Instrutions>\u001b[0m                                                                                                 \u001b[34m│\u001b[0m\n",
       "\u001b[34m│\u001b[0m                                                                                                                 \u001b[34m│\u001b[0m\n",
       "\u001b[34m│\u001b[0m                                                                                                                 \u001b[34m│\u001b[0m\n",
       "\u001b[34m│\u001b[0m  \u001b[1;34m<Example>\u001b[0m                                                                                                      \u001b[34m│\u001b[0m\n",
       "\u001b[34m│\u001b[0m  Por exemplo, um email formal e técnico com tom confiante pode ser:                                             \u001b[34m│\u001b[0m\n",
       "\u001b[34m│\u001b[0m  Asunto: Apresentação de Solução Avançada de Visão Computacional para Inspeção Industrial                       \u001b[34m│\u001b[0m\n",
       "\u001b[34m│\u001b[0m  Prezado Sr. Silva,                                                                                             \u001b[34m│\u001b[0m\n",
       "\u001b[34m│\u001b[0m  Gostaria de apresentar nossa avançada solução de visão computacional projetada para otimizar processos de      \u001b[34m│\u001b[0m\n",
       "\u001b[34m│\u001b[0m  inspeção industrial.                                                                                           \u001b[34m│\u001b[0m\n",
       "\u001b[34m│\u001b[0m  Nossa tecnologia utiliza algoritmos de ponta para garantir precisão e eficiência, reduzindo custos             \u001b[34m│\u001b[0m\n",
       "\u001b[34m│\u001b[0m  operacionais.                                                                                                  \u001b[34m│\u001b[0m\n",
       "\u001b[34m│\u001b[0m  Ficaria honrado em agendar uma demonstração para discutir como nossa solução pode beneficiar sua empresa.      \u001b[34m│\u001b[0m\n",
       "\u001b[34m│\u001b[0m  Atenciosamente,                                                                                                \u001b[34m│\u001b[0m\n",
       "\u001b[34m│\u001b[0m  João Pereira                                                                                                   \u001b[34m│\u001b[0m\n",
       "\u001b[34m│\u001b[0m  \u001b[1;34m</Example>\u001b[0m                                                                                                     \u001b[34m│\u001b[0m\n",
       "\u001b[34m│\u001b[0m                                                                                                                 \u001b[34m│\u001b[0m\n",
       "\u001b[34m│\u001b[0m                                                                                                                 \u001b[34m│\u001b[0m\n",
       "\u001b[34m│\u001b[0m                                                                                                                 \u001b[34m│\u001b[0m\n",
       "\u001b[34m╰─────────────────────────────────────────────────────────────────────────────────────────────────────────────────╯\u001b[0m\n"
      ]
     },
     "metadata": {},
     "output_type": "display_data"
    }
   ],
   "source": [
    "\n",
    "show_prompt(prompt)"
   ]
  },
  {
   "cell_type": "code",
   "execution_count": 8,
   "id": "08b7aa58",
   "metadata": {},
   "outputs": [
    {
     "name": "stdout",
     "output_type": "stream",
     "text": [
      "\n",
      "Crie um email para um cliente corporativo apresentando nossa solução\n",
      "de visão computacional para inspeção industrial. O estilo deve ser\n",
      "formal e técnico, com tom confiante e persuasivo. Inclua um CTA para\n",
      "agendar uma demonstração.\n",
      "\n"
     ]
    }
   ],
   "source": [
    "customer_email = \"\"\"\n",
    "Crie um email para um cliente corporativo apresentando nossa solução\n",
    "de visão computacional para inspeção industrial. O estilo deve ser\n",
    "formal e técnico, com tom confiante e persuasivo. Inclua um CTA para\n",
    "agendar uma demonstração.\n",
    "\"\"\"\n",
    "\n",
    "print(customer_email)"
   ]
  },
  {
   "cell_type": "code",
   "execution_count": 9,
   "id": "c883dcbd",
   "metadata": {
    "tags": []
   },
   "outputs": [],
   "source": [
    "from datetime import datetime\n",
    "def get_today_str() -> str:\n",
    "    \"\"\"Get current date in a human-readable format.\"\"\"\n",
    "    return datetime.now().strftime(\"%a %b %-d, %Y\")\n",
    "\n",
    "prompt.format(customer_email=customer_email, style=styles[0], tone=tones[0], date=get_today_str())\n",
    "response = get_completion(prompt)"
   ]
  },
  {
   "cell_type": "code",
   "execution_count": 10,
   "id": "99b33f61",
   "metadata": {
    "tags": []
   },
   "outputs": [
    {
     "name": "stdout",
     "output_type": "stream",
     "text": [
      "Assunto: Proposta de Solução para Otimização de Processos\n",
      "\n",
      "Prezado [Nome do Cliente],\n",
      "\n",
      "Espero que este email o encontre bem.\n",
      "\n",
      "Identificamos que sua empresa enfrenta desafios na otimização de processos, o que pode impactar a eficiência e a produtividade. Sabemos que, em um mercado competitivo, é crucial encontrar maneiras de melhorar continuamente.\n",
      "\n",
      "Para abordar essa questão, gostaríamos de apresentar nossa solução inovadora de automação de processos. Nossa plataforma foi desenvolvida para integrar-se facilmente aos sistemas existentes, proporcionando uma gestão mais eficiente e reduzindo o tempo gasto em tarefas manuais.\n",
      "\n",
      "Os benefícios dessa solução incluem:\n",
      "- Aumento significativo na eficiência operacional.\n",
      "- Redução de erros humanos e retrabalho.\n",
      "- Melhoria na alocação de recursos, permitindo que sua equipe se concentre em atividades estratégicas.\n",
      "\n",
      "Estamos confiantes de que nossa solução pode trazer resultados positivos para sua empresa. Gostaríamos de agendar uma demonstração para que você possa ver em primeira mão como podemos ajudar a transformar seus processos.\n",
      "\n",
      "Por favor, responda a este email com sua disponibilidade, e ficaremos felizes em marcar um horário que seja conveniente para você.\n",
      "\n",
      "Atenciosamente,\n",
      "\n",
      "[Seu Nome]  \n",
      "[Seu Cargo]  \n",
      "[Nome da Empresa]  \n",
      "[Telefone]  \n",
      "[Email]  \n"
     ]
    }
   ],
   "source": [
    "print(response)"
   ]
  },
  {
   "cell_type": "markdown",
   "id": "f80482d1",
   "metadata": {},
   "source": [
    "## Chat API : LangChain\n",
    "\n",
    "Let's try how we can do the same using LangChain."
   ]
  },
  {
   "cell_type": "code",
   "execution_count": 25,
   "id": "3a525b58",
   "metadata": {
    "tags": []
   },
   "outputs": [],
   "source": [
    "#!pip install --upgrade langchain\n",
    "#!pip install langchain_openai"
   ]
  },
  {
   "cell_type": "markdown",
   "id": "a25c5b27",
   "metadata": {},
   "source": [
    "### Model"
   ]
  },
  {
   "cell_type": "code",
   "execution_count": 11,
   "id": "f0d4a269",
   "metadata": {
    "tags": []
   },
   "outputs": [],
   "source": [
    "from langchain_openai import ChatOpenAI"
   ]
  },
  {
   "cell_type": "code",
   "execution_count": 12,
   "id": "1cc0c8b8",
   "metadata": {
    "tags": []
   },
   "outputs": [
    {
     "data": {
      "text/plain": [
       "ChatOpenAI(client=<openai.resources.chat.completions.completions.Completions object at 0x70fd909af950>, async_client=<openai.resources.chat.completions.completions.AsyncCompletions object at 0x70fd909bc9d0>, root_client=<openai.OpenAI object at 0x70fd909af6d0>, root_async_client=<openai.AsyncOpenAI object at 0x70fd909bc550>, model_name='gpt-4o-mini', temperature=0.0, model_kwargs={}, openai_api_key=SecretStr('**********'), openai_organization='org-5qZfsmr4Uz6f4Olo3UqM4Fgb', stream_usage=True)"
      ]
     },
     "execution_count": 12,
     "metadata": {},
     "output_type": "execute_result"
    }
   ],
   "source": [
    "# To control the randomness and creativity of the generated\n",
    "# text by an LLM, use temperature = 0.0\n",
    "chat = ChatOpenAI(\n",
    "    temperature=0.0,\n",
    "    model=llm_model\n",
    "    )\n",
    "chat"
   ]
  },
  {
   "cell_type": "code",
   "execution_count": null,
   "id": "57bda7d8",
   "metadata": {
    "tags": []
   },
   "outputs": [],
   "source": []
  },
  {
   "cell_type": "code",
   "execution_count": 13,
   "id": "3a31f246",
   "metadata": {
    "tags": []
   },
   "outputs": [
    {
     "name": "stdout",
     "output_type": "stream",
     "text": [
      "DONE\n"
     ]
    }
   ],
   "source": [
    "from langchain_core.messages import HumanMessage\n",
    "\n",
    "prompt.format(\n",
    "    customer_email=customer_email,\n",
    "    style=styles[0],\n",
    "    tone=tones[0],\n",
    "    date=get_today_str()\n",
    ")\n",
    "\n",
    "response = chat.invoke([HumanMessage(content=prompt)])\n",
    "print(\"DONE\")"
   ]
  },
  {
   "cell_type": "code",
   "execution_count": 14,
   "id": "cac2cb16",
   "metadata": {
    "tags": []
   },
   "outputs": [
    {
     "data": {
      "text/html": [
       "<pre style=\"white-space:pre;overflow-x:auto;line-height:normal;font-family:Menlo,'DejaVu Sans Mono',consolas,'Courier New',monospace\"><span style=\"color: #000080; text-decoration-color: #000080\">╭──────────────────────────────────────────────────── </span><span style=\"color: #008000; text-decoration-color: #008000; font-weight: bold\">Prompt</span><span style=\"color: #000080; text-decoration-color: #000080\"> ─────────────────────────────────────────────────────╮</span>\n",
       "<span style=\"color: #000080; text-decoration-color: #000080\">│</span>                                                                                                                 <span style=\"color: #000080; text-decoration-color: #000080\">│</span>\n",
       "<span style=\"color: #000080; text-decoration-color: #000080\">│</span>  Voce é um assistente de IA que ajuda a redigir emails corporativos. Para o contexto, hoje é {date}.            <span style=\"color: #000080; text-decoration-color: #000080\">│</span>\n",
       "<span style=\"color: #000080; text-decoration-color: #000080\">│</span>                                                                                                                 <span style=\"color: #000080; text-decoration-color: #000080\">│</span>\n",
       "<span style=\"color: #000080; text-decoration-color: #000080\">│</span>  <span style=\"color: #000080; text-decoration-color: #000080; font-weight: bold\">&lt;Task&gt;</span>                                                                                                         <span style=\"color: #000080; text-decoration-color: #000080\">│</span>\n",
       "<span style=\"color: #000080; text-decoration-color: #000080\">│</span>  Redigir um email com base no contexto fornecido.                                                               <span style=\"color: #000080; text-decoration-color: #000080\">│</span>\n",
       "<span style=\"color: #000080; text-decoration-color: #000080\">│</span>  <span style=\"color: #000080; text-decoration-color: #000080; font-weight: bold\">&lt;/Task&gt;</span>                                                                                                        <span style=\"color: #000080; text-decoration-color: #000080\">│</span>\n",
       "<span style=\"color: #000080; text-decoration-color: #000080\">│</span>                                                                                                                 <span style=\"color: #000080; text-decoration-color: #000080\">│</span>\n",
       "<span style=\"color: #000080; text-decoration-color: #000080\">│</span>  O email precisa ter a seguinte estrutura básica:                                                               <span style=\"color: #000080; text-decoration-color: #000080\">│</span>\n",
       "<span style=\"color: #000080; text-decoration-color: #000080\">│</span>  <span style=\"color: #000080; text-decoration-color: #000080; font-weight: bold\">&lt;Structure&gt;</span>                                                                                                    <span style=\"color: #000080; text-decoration-color: #000080\">│</span>\n",
       "<span style=\"color: #000080; text-decoration-color: #000080\">│</span>  1. Saudação                                                                                                    <span style=\"color: #000080; text-decoration-color: #000080\">│</span>\n",
       "<span style=\"color: #000080; text-decoration-color: #000080\">│</span>  2. Introdução ao problema                                                                                      <span style=\"color: #000080; text-decoration-color: #000080\">│</span>\n",
       "<span style=\"color: #000080; text-decoration-color: #000080\">│</span>  3. Apresentação da solução                                                                                     <span style=\"color: #000080; text-decoration-color: #000080\">│</span>\n",
       "<span style=\"color: #000080; text-decoration-color: #000080\">│</span>  4. Benefícios da solução                                                                                       <span style=\"color: #000080; text-decoration-color: #000080\">│</span>\n",
       "<span style=\"color: #000080; text-decoration-color: #000080\">│</span>  5. Chamada para ação (CTA)                                                                                     <span style=\"color: #000080; text-decoration-color: #000080\">│</span>\n",
       "<span style=\"color: #000080; text-decoration-color: #000080\">│</span>  6. Despedida                                                                                                   <span style=\"color: #000080; text-decoration-color: #000080\">│</span>\n",
       "<span style=\"color: #000080; text-decoration-color: #000080\">│</span>  <span style=\"color: #000080; text-decoration-color: #000080; font-weight: bold\">&lt;/Structure&gt;</span>                                                                                                   <span style=\"color: #000080; text-decoration-color: #000080\">│</span>\n",
       "<span style=\"color: #000080; text-decoration-color: #000080\">│</span>                                                                                                                 <span style=\"color: #000080; text-decoration-color: #000080\">│</span>\n",
       "<span style=\"color: #000080; text-decoration-color: #000080\">│</span>                                                                                                                 <span style=\"color: #000080; text-decoration-color: #000080\">│</span>\n",
       "<span style=\"color: #000080; text-decoration-color: #000080\">│</span>  <span style=\"color: #000080; text-decoration-color: #000080; font-weight: bold\">&lt;Context&gt;</span>                                                                                                      <span style=\"color: #000080; text-decoration-color: #000080\">│</span>\n",
       "<span style=\"color: #000080; text-decoration-color: #000080\">│</span>  Escreva um email para um cliente corporativo com o seguinte contexto:                                          <span style=\"color: #000080; text-decoration-color: #000080\">│</span>\n",
       "<span style=\"color: #000080; text-decoration-color: #000080\">│</span>  {customer_email}                                                                                               <span style=\"color: #000080; text-decoration-color: #000080\">│</span>\n",
       "<span style=\"color: #000080; text-decoration-color: #000080\">│</span>  O email deve ser escrito em um dos seguintes estilos: {style} e tons: {tone}.                                  <span style=\"color: #000080; text-decoration-color: #000080\">│</span>\n",
       "<span style=\"color: #000080; text-decoration-color: #000080\">│</span>  <span style=\"color: #000080; text-decoration-color: #000080; font-weight: bold\">&lt;/Context&gt;</span>                                                                                                     <span style=\"color: #000080; text-decoration-color: #000080\">│</span>\n",
       "<span style=\"color: #000080; text-decoration-color: #000080\">│</span>                                                                                                                 <span style=\"color: #000080; text-decoration-color: #000080\">│</span>\n",
       "<span style=\"color: #000080; text-decoration-color: #000080\">│</span>                                                                                                                 <span style=\"color: #000080; text-decoration-color: #000080\">│</span>\n",
       "<span style=\"color: #000080; text-decoration-color: #000080\">│</span>  <span style=\"color: #000080; text-decoration-color: #000080; font-weight: bold\">&lt;Instrutions&gt;</span>                                                                                                  <span style=\"color: #000080; text-decoration-color: #000080\">│</span>\n",
       "<span style=\"color: #000080; text-decoration-color: #000080\">│</span>  Use o estilo e tom especificados para redigir o email.                                                         <span style=\"color: #000080; text-decoration-color: #000080\">│</span>\n",
       "<span style=\"color: #000080; text-decoration-color: #000080\">│</span>  Certifique-se de que o email seja claro, profissional e adequado ao público-alvo.                              <span style=\"color: #000080; text-decoration-color: #000080\">│</span>\n",
       "<span style=\"color: #000080; text-decoration-color: #000080\">│</span>  Não se esqueça de incluir um CTA (Call to Action) para agendar uma demonstração.                               <span style=\"color: #000080; text-decoration-color: #000080\">│</span>\n",
       "<span style=\"color: #000080; text-decoration-color: #000080\">│</span>  Não invente informações; baseie-se apenas no contexto fornecido.                                               <span style=\"color: #000080; text-decoration-color: #000080\">│</span>\n",
       "<span style=\"color: #000080; text-decoration-color: #000080\">│</span>  Opcionalmente, use gatilhos mentais com autoridade, urgência, pertencimento, benefício se apropriado.          <span style=\"color: #000080; text-decoration-color: #000080\">│</span>\n",
       "<span style=\"color: #000080; text-decoration-color: #000080\">│</span>  <span style=\"color: #000080; text-decoration-color: #000080; font-weight: bold\">&lt;/Instrutions&gt;</span>                                                                                                 <span style=\"color: #000080; text-decoration-color: #000080\">│</span>\n",
       "<span style=\"color: #000080; text-decoration-color: #000080\">│</span>                                                                                                                 <span style=\"color: #000080; text-decoration-color: #000080\">│</span>\n",
       "<span style=\"color: #000080; text-decoration-color: #000080\">│</span>                                                                                                                 <span style=\"color: #000080; text-decoration-color: #000080\">│</span>\n",
       "<span style=\"color: #000080; text-decoration-color: #000080\">│</span>  <span style=\"color: #000080; text-decoration-color: #000080; font-weight: bold\">&lt;Example&gt;</span>                                                                                                      <span style=\"color: #000080; text-decoration-color: #000080\">│</span>\n",
       "<span style=\"color: #000080; text-decoration-color: #000080\">│</span>  Por exemplo, um email formal e técnico com tom confiante pode ser:                                             <span style=\"color: #000080; text-decoration-color: #000080\">│</span>\n",
       "<span style=\"color: #000080; text-decoration-color: #000080\">│</span>  Asunto: Apresentação de Solução Avançada de Visão Computacional para Inspeção Industrial                       <span style=\"color: #000080; text-decoration-color: #000080\">│</span>\n",
       "<span style=\"color: #000080; text-decoration-color: #000080\">│</span>  Prezado Sr. Silva,                                                                                             <span style=\"color: #000080; text-decoration-color: #000080\">│</span>\n",
       "<span style=\"color: #000080; text-decoration-color: #000080\">│</span>  Gostaria de apresentar nossa avançada solução de visão computacional projetada para otimizar processos de      <span style=\"color: #000080; text-decoration-color: #000080\">│</span>\n",
       "<span style=\"color: #000080; text-decoration-color: #000080\">│</span>  inspeção industrial.                                                                                           <span style=\"color: #000080; text-decoration-color: #000080\">│</span>\n",
       "<span style=\"color: #000080; text-decoration-color: #000080\">│</span>  Nossa tecnologia utiliza algoritmos de ponta para garantir precisão e eficiência, reduzindo custos             <span style=\"color: #000080; text-decoration-color: #000080\">│</span>\n",
       "<span style=\"color: #000080; text-decoration-color: #000080\">│</span>  operacionais.                                                                                                  <span style=\"color: #000080; text-decoration-color: #000080\">│</span>\n",
       "<span style=\"color: #000080; text-decoration-color: #000080\">│</span>  Ficaria honrado em agendar uma demonstração para discutir como nossa solução pode beneficiar sua empresa.      <span style=\"color: #000080; text-decoration-color: #000080\">│</span>\n",
       "<span style=\"color: #000080; text-decoration-color: #000080\">│</span>  Atenciosamente,                                                                                                <span style=\"color: #000080; text-decoration-color: #000080\">│</span>\n",
       "<span style=\"color: #000080; text-decoration-color: #000080\">│</span>  João Pereira                                                                                                   <span style=\"color: #000080; text-decoration-color: #000080\">│</span>\n",
       "<span style=\"color: #000080; text-decoration-color: #000080\">│</span>  <span style=\"color: #000080; text-decoration-color: #000080; font-weight: bold\">&lt;/Example&gt;</span>                                                                                                     <span style=\"color: #000080; text-decoration-color: #000080\">│</span>\n",
       "<span style=\"color: #000080; text-decoration-color: #000080\">│</span>                                                                                                                 <span style=\"color: #000080; text-decoration-color: #000080\">│</span>\n",
       "<span style=\"color: #000080; text-decoration-color: #000080\">│</span>                                                                                                                 <span style=\"color: #000080; text-decoration-color: #000080\">│</span>\n",
       "<span style=\"color: #000080; text-decoration-color: #000080\">│</span>                                                                                                                 <span style=\"color: #000080; text-decoration-color: #000080\">│</span>\n",
       "<span style=\"color: #000080; text-decoration-color: #000080\">╰─────────────────────────────────────────────────────────────────────────────────────────────────────────────────╯</span>\n",
       "</pre>\n"
      ],
      "text/plain": [
       "\u001b[34m╭─\u001b[0m\u001b[34m───────────────────────────────────────────────────\u001b[0m\u001b[34m \u001b[0m\u001b[1;32mPrompt\u001b[0m\u001b[34m \u001b[0m\u001b[34m────────────────────────────────────────────────────\u001b[0m\u001b[34m─╮\u001b[0m\n",
       "\u001b[34m│\u001b[0m                                                                                                                 \u001b[34m│\u001b[0m\n",
       "\u001b[34m│\u001b[0m  Voce é um assistente de IA que ajuda a redigir emails corporativos. Para o contexto, hoje é {date}.            \u001b[34m│\u001b[0m\n",
       "\u001b[34m│\u001b[0m                                                                                                                 \u001b[34m│\u001b[0m\n",
       "\u001b[34m│\u001b[0m  \u001b[1;34m<Task>\u001b[0m                                                                                                         \u001b[34m│\u001b[0m\n",
       "\u001b[34m│\u001b[0m  Redigir um email com base no contexto fornecido.                                                               \u001b[34m│\u001b[0m\n",
       "\u001b[34m│\u001b[0m  \u001b[1;34m</Task>\u001b[0m                                                                                                        \u001b[34m│\u001b[0m\n",
       "\u001b[34m│\u001b[0m                                                                                                                 \u001b[34m│\u001b[0m\n",
       "\u001b[34m│\u001b[0m  O email precisa ter a seguinte estrutura básica:                                                               \u001b[34m│\u001b[0m\n",
       "\u001b[34m│\u001b[0m  \u001b[1;34m<Structure>\u001b[0m                                                                                                    \u001b[34m│\u001b[0m\n",
       "\u001b[34m│\u001b[0m  1. Saudação                                                                                                    \u001b[34m│\u001b[0m\n",
       "\u001b[34m│\u001b[0m  2. Introdução ao problema                                                                                      \u001b[34m│\u001b[0m\n",
       "\u001b[34m│\u001b[0m  3. Apresentação da solução                                                                                     \u001b[34m│\u001b[0m\n",
       "\u001b[34m│\u001b[0m  4. Benefícios da solução                                                                                       \u001b[34m│\u001b[0m\n",
       "\u001b[34m│\u001b[0m  5. Chamada para ação (CTA)                                                                                     \u001b[34m│\u001b[0m\n",
       "\u001b[34m│\u001b[0m  6. Despedida                                                                                                   \u001b[34m│\u001b[0m\n",
       "\u001b[34m│\u001b[0m  \u001b[1;34m</Structure>\u001b[0m                                                                                                   \u001b[34m│\u001b[0m\n",
       "\u001b[34m│\u001b[0m                                                                                                                 \u001b[34m│\u001b[0m\n",
       "\u001b[34m│\u001b[0m                                                                                                                 \u001b[34m│\u001b[0m\n",
       "\u001b[34m│\u001b[0m  \u001b[1;34m<Context>\u001b[0m                                                                                                      \u001b[34m│\u001b[0m\n",
       "\u001b[34m│\u001b[0m  Escreva um email para um cliente corporativo com o seguinte contexto:                                          \u001b[34m│\u001b[0m\n",
       "\u001b[34m│\u001b[0m  {customer_email}                                                                                               \u001b[34m│\u001b[0m\n",
       "\u001b[34m│\u001b[0m  O email deve ser escrito em um dos seguintes estilos: {style} e tons: {tone}.                                  \u001b[34m│\u001b[0m\n",
       "\u001b[34m│\u001b[0m  \u001b[1;34m</Context>\u001b[0m                                                                                                     \u001b[34m│\u001b[0m\n",
       "\u001b[34m│\u001b[0m                                                                                                                 \u001b[34m│\u001b[0m\n",
       "\u001b[34m│\u001b[0m                                                                                                                 \u001b[34m│\u001b[0m\n",
       "\u001b[34m│\u001b[0m  \u001b[1;34m<Instrutions>\u001b[0m                                                                                                  \u001b[34m│\u001b[0m\n",
       "\u001b[34m│\u001b[0m  Use o estilo e tom especificados para redigir o email.                                                         \u001b[34m│\u001b[0m\n",
       "\u001b[34m│\u001b[0m  Certifique-se de que o email seja claro, profissional e adequado ao público-alvo.                              \u001b[34m│\u001b[0m\n",
       "\u001b[34m│\u001b[0m  Não se esqueça de incluir um CTA (Call to Action) para agendar uma demonstração.                               \u001b[34m│\u001b[0m\n",
       "\u001b[34m│\u001b[0m  Não invente informações; baseie-se apenas no contexto fornecido.                                               \u001b[34m│\u001b[0m\n",
       "\u001b[34m│\u001b[0m  Opcionalmente, use gatilhos mentais com autoridade, urgência, pertencimento, benefício se apropriado.          \u001b[34m│\u001b[0m\n",
       "\u001b[34m│\u001b[0m  \u001b[1;34m</Instrutions>\u001b[0m                                                                                                 \u001b[34m│\u001b[0m\n",
       "\u001b[34m│\u001b[0m                                                                                                                 \u001b[34m│\u001b[0m\n",
       "\u001b[34m│\u001b[0m                                                                                                                 \u001b[34m│\u001b[0m\n",
       "\u001b[34m│\u001b[0m  \u001b[1;34m<Example>\u001b[0m                                                                                                      \u001b[34m│\u001b[0m\n",
       "\u001b[34m│\u001b[0m  Por exemplo, um email formal e técnico com tom confiante pode ser:                                             \u001b[34m│\u001b[0m\n",
       "\u001b[34m│\u001b[0m  Asunto: Apresentação de Solução Avançada de Visão Computacional para Inspeção Industrial                       \u001b[34m│\u001b[0m\n",
       "\u001b[34m│\u001b[0m  Prezado Sr. Silva,                                                                                             \u001b[34m│\u001b[0m\n",
       "\u001b[34m│\u001b[0m  Gostaria de apresentar nossa avançada solução de visão computacional projetada para otimizar processos de      \u001b[34m│\u001b[0m\n",
       "\u001b[34m│\u001b[0m  inspeção industrial.                                                                                           \u001b[34m│\u001b[0m\n",
       "\u001b[34m│\u001b[0m  Nossa tecnologia utiliza algoritmos de ponta para garantir precisão e eficiência, reduzindo custos             \u001b[34m│\u001b[0m\n",
       "\u001b[34m│\u001b[0m  operacionais.                                                                                                  \u001b[34m│\u001b[0m\n",
       "\u001b[34m│\u001b[0m  Ficaria honrado em agendar uma demonstração para discutir como nossa solução pode beneficiar sua empresa.      \u001b[34m│\u001b[0m\n",
       "\u001b[34m│\u001b[0m  Atenciosamente,                                                                                                \u001b[34m│\u001b[0m\n",
       "\u001b[34m│\u001b[0m  João Pereira                                                                                                   \u001b[34m│\u001b[0m\n",
       "\u001b[34m│\u001b[0m  \u001b[1;34m</Example>\u001b[0m                                                                                                     \u001b[34m│\u001b[0m\n",
       "\u001b[34m│\u001b[0m                                                                                                                 \u001b[34m│\u001b[0m\n",
       "\u001b[34m│\u001b[0m                                                                                                                 \u001b[34m│\u001b[0m\n",
       "\u001b[34m│\u001b[0m                                                                                                                 \u001b[34m│\u001b[0m\n",
       "\u001b[34m╰─────────────────────────────────────────────────────────────────────────────────────────────────────────────────╯\u001b[0m\n"
      ]
     },
     "metadata": {},
     "output_type": "display_data"
    },
    {
     "data": {
      "text/html": [
       "<pre style=\"white-space:pre;overflow-x:auto;line-height:normal;font-family:Menlo,'DejaVu Sans Mono',consolas,'Courier New',monospace\"><span style=\"color: #c0c0c0; text-decoration-color: #c0c0c0\">╭───────────────────────────────────────────────────── 📝 AI ─────────────────────────────────────────────────────╮</span>\n",
       "<span style=\"color: #c0c0c0; text-decoration-color: #c0c0c0\">│</span> Assunto: Proposta de Solução para Otimização de Processos                                                       <span style=\"color: #c0c0c0; text-decoration-color: #c0c0c0\">│</span>\n",
       "<span style=\"color: #c0c0c0; text-decoration-color: #c0c0c0\">│</span>                                                                                                                 <span style=\"color: #c0c0c0; text-decoration-color: #c0c0c0\">│</span>\n",
       "<span style=\"color: #c0c0c0; text-decoration-color: #c0c0c0\">│</span> Prezado [Nome do Cliente],                                                                                      <span style=\"color: #c0c0c0; text-decoration-color: #c0c0c0\">│</span>\n",
       "<span style=\"color: #c0c0c0; text-decoration-color: #c0c0c0\">│</span>                                                                                                                 <span style=\"color: #c0c0c0; text-decoration-color: #c0c0c0\">│</span>\n",
       "<span style=\"color: #c0c0c0; text-decoration-color: #c0c0c0\">│</span> Espero que este email o encontre bem.                                                                           <span style=\"color: #c0c0c0; text-decoration-color: #c0c0c0\">│</span>\n",
       "<span style=\"color: #c0c0c0; text-decoration-color: #c0c0c0\">│</span>                                                                                                                 <span style=\"color: #c0c0c0; text-decoration-color: #c0c0c0\">│</span>\n",
       "<span style=\"color: #c0c0c0; text-decoration-color: #c0c0c0\">│</span> Nos últimos meses, temos observado que muitas empresas enfrentam desafios significativos na otimização de seus  <span style=\"color: #c0c0c0; text-decoration-color: #c0c0c0\">│</span>\n",
       "<span style=\"color: #c0c0c0; text-decoration-color: #c0c0c0\">│</span> processos internos, o que pode resultar em ineficiências e aumento de custos. Compreendemos que a sua           <span style=\"color: #c0c0c0; text-decoration-color: #c0c0c0\">│</span>\n",
       "<span style=\"color: #c0c0c0; text-decoration-color: #c0c0c0\">│</span> organização também pode estar lidando com essas questões.                                                       <span style=\"color: #c0c0c0; text-decoration-color: #c0c0c0\">│</span>\n",
       "<span style=\"color: #c0c0c0; text-decoration-color: #c0c0c0\">│</span>                                                                                                                 <span style=\"color: #c0c0c0; text-decoration-color: #c0c0c0\">│</span>\n",
       "<span style=\"color: #c0c0c0; text-decoration-color: #c0c0c0\">│</span> Para abordar esse problema, desenvolvemos uma solução inovadora que integra tecnologia de automação e análise   <span style=\"color: #c0c0c0; text-decoration-color: #c0c0c0\">│</span>\n",
       "<span style=\"color: #c0c0c0; text-decoration-color: #c0c0c0\">│</span> de dados, permitindo uma gestão mais eficiente dos recursos e uma redução significativa nos custos              <span style=\"color: #c0c0c0; text-decoration-color: #c0c0c0\">│</span>\n",
       "<span style=\"color: #c0c0c0; text-decoration-color: #c0c0c0\">│</span> operacionais. Nossa plataforma é projetada para se adaptar às necessidades específicas de cada cliente,         <span style=\"color: #c0c0c0; text-decoration-color: #c0c0c0\">│</span>\n",
       "<span style=\"color: #c0c0c0; text-decoration-color: #c0c0c0\">│</span> garantindo uma implementação suave e eficaz.                                                                    <span style=\"color: #c0c0c0; text-decoration-color: #c0c0c0\">│</span>\n",
       "<span style=\"color: #c0c0c0; text-decoration-color: #c0c0c0\">│</span>                                                                                                                 <span style=\"color: #c0c0c0; text-decoration-color: #c0c0c0\">│</span>\n",
       "<span style=\"color: #c0c0c0; text-decoration-color: #c0c0c0\">│</span> Os benefícios dessa solução incluem não apenas a redução de custos, mas também a melhoria na produtividade da   <span style=\"color: #c0c0c0; text-decoration-color: #c0c0c0\">│</span>\n",
       "<span style=\"color: #c0c0c0; text-decoration-color: #c0c0c0\">│</span> equipe e a capacidade de tomar decisões mais informadas com base em dados em tempo real. Além disso, ao adotar  <span style=\"color: #c0c0c0; text-decoration-color: #c0c0c0\">│</span>\n",
       "<span style=\"color: #c0c0c0; text-decoration-color: #c0c0c0\">│</span> essa tecnologia, sua empresa se posicionará como líder em inovação no seu setor.                                <span style=\"color: #c0c0c0; text-decoration-color: #c0c0c0\">│</span>\n",
       "<span style=\"color: #c0c0c0; text-decoration-color: #c0c0c0\">│</span>                                                                                                                 <span style=\"color: #c0c0c0; text-decoration-color: #c0c0c0\">│</span>\n",
       "<span style=\"color: #c0c0c0; text-decoration-color: #c0c0c0\">│</span> Gostaríamos de convidá-lo para uma demonstração personalizada, onde poderemos mostrar como nossa solução pode   <span style=\"color: #c0c0c0; text-decoration-color: #c0c0c0\">│</span>\n",
       "<span style=\"color: #c0c0c0; text-decoration-color: #c0c0c0\">│</span> ser aplicada especificamente à sua organização. Por favor, responda a este email com sua disponibilidade, e     <span style=\"color: #c0c0c0; text-decoration-color: #c0c0c0\">│</span>\n",
       "<span style=\"color: #c0c0c0; text-decoration-color: #c0c0c0\">│</span> ficaremos felizes em agendar um horário que seja conveniente para você.                                         <span style=\"color: #c0c0c0; text-decoration-color: #c0c0c0\">│</span>\n",
       "<span style=\"color: #c0c0c0; text-decoration-color: #c0c0c0\">│</span>                                                                                                                 <span style=\"color: #c0c0c0; text-decoration-color: #c0c0c0\">│</span>\n",
       "<span style=\"color: #c0c0c0; text-decoration-color: #c0c0c0\">│</span> Agradeço pela atenção e estou ansioso para a oportunidade de colaborar com sua equipe.                          <span style=\"color: #c0c0c0; text-decoration-color: #c0c0c0\">│</span>\n",
       "<span style=\"color: #c0c0c0; text-decoration-color: #c0c0c0\">│</span>                                                                                                                 <span style=\"color: #c0c0c0; text-decoration-color: #c0c0c0\">│</span>\n",
       "<span style=\"color: #c0c0c0; text-decoration-color: #c0c0c0\">│</span> Atenciosamente,                                                                                                 <span style=\"color: #c0c0c0; text-decoration-color: #c0c0c0\">│</span>\n",
       "<span style=\"color: #c0c0c0; text-decoration-color: #c0c0c0\">│</span>                                                                                                                 <span style=\"color: #c0c0c0; text-decoration-color: #c0c0c0\">│</span>\n",
       "<span style=\"color: #c0c0c0; text-decoration-color: #c0c0c0\">│</span> [Seu Nome]                                                                                                      <span style=\"color: #c0c0c0; text-decoration-color: #c0c0c0\">│</span>\n",
       "<span style=\"color: #c0c0c0; text-decoration-color: #c0c0c0\">│</span> [Seu Cargo]                                                                                                     <span style=\"color: #c0c0c0; text-decoration-color: #c0c0c0\">│</span>\n",
       "<span style=\"color: #c0c0c0; text-decoration-color: #c0c0c0\">│</span> [Nome da Empresa]                                                                                               <span style=\"color: #c0c0c0; text-decoration-color: #c0c0c0\">│</span>\n",
       "<span style=\"color: #c0c0c0; text-decoration-color: #c0c0c0\">│</span> [Telefone]                                                                                                      <span style=\"color: #c0c0c0; text-decoration-color: #c0c0c0\">│</span>\n",
       "<span style=\"color: #c0c0c0; text-decoration-color: #c0c0c0\">│</span> [Email]                                                                                                         <span style=\"color: #c0c0c0; text-decoration-color: #c0c0c0\">│</span>\n",
       "<span style=\"color: #c0c0c0; text-decoration-color: #c0c0c0\">╰─────────────────────────────────────────────────────────────────────────────────────────────────────────────────╯</span>\n",
       "</pre>\n"
      ],
      "text/plain": [
       "\u001b[37m╭─\u001b[0m\u001b[37m────────────────────────────────────────────────────\u001b[0m\u001b[37m 📝 AI \u001b[0m\u001b[37m────────────────────────────────────────────────────\u001b[0m\u001b[37m─╮\u001b[0m\n",
       "\u001b[37m│\u001b[0m Assunto: Proposta de Solução para Otimização de Processos                                                       \u001b[37m│\u001b[0m\n",
       "\u001b[37m│\u001b[0m                                                                                                                 \u001b[37m│\u001b[0m\n",
       "\u001b[37m│\u001b[0m Prezado [Nome do Cliente],                                                                                      \u001b[37m│\u001b[0m\n",
       "\u001b[37m│\u001b[0m                                                                                                                 \u001b[37m│\u001b[0m\n",
       "\u001b[37m│\u001b[0m Espero que este email o encontre bem.                                                                           \u001b[37m│\u001b[0m\n",
       "\u001b[37m│\u001b[0m                                                                                                                 \u001b[37m│\u001b[0m\n",
       "\u001b[37m│\u001b[0m Nos últimos meses, temos observado que muitas empresas enfrentam desafios significativos na otimização de seus  \u001b[37m│\u001b[0m\n",
       "\u001b[37m│\u001b[0m processos internos, o que pode resultar em ineficiências e aumento de custos. Compreendemos que a sua           \u001b[37m│\u001b[0m\n",
       "\u001b[37m│\u001b[0m organização também pode estar lidando com essas questões.                                                       \u001b[37m│\u001b[0m\n",
       "\u001b[37m│\u001b[0m                                                                                                                 \u001b[37m│\u001b[0m\n",
       "\u001b[37m│\u001b[0m Para abordar esse problema, desenvolvemos uma solução inovadora que integra tecnologia de automação e análise   \u001b[37m│\u001b[0m\n",
       "\u001b[37m│\u001b[0m de dados, permitindo uma gestão mais eficiente dos recursos e uma redução significativa nos custos              \u001b[37m│\u001b[0m\n",
       "\u001b[37m│\u001b[0m operacionais. Nossa plataforma é projetada para se adaptar às necessidades específicas de cada cliente,         \u001b[37m│\u001b[0m\n",
       "\u001b[37m│\u001b[0m garantindo uma implementação suave e eficaz.                                                                    \u001b[37m│\u001b[0m\n",
       "\u001b[37m│\u001b[0m                                                                                                                 \u001b[37m│\u001b[0m\n",
       "\u001b[37m│\u001b[0m Os benefícios dessa solução incluem não apenas a redução de custos, mas também a melhoria na produtividade da   \u001b[37m│\u001b[0m\n",
       "\u001b[37m│\u001b[0m equipe e a capacidade de tomar decisões mais informadas com base em dados em tempo real. Além disso, ao adotar  \u001b[37m│\u001b[0m\n",
       "\u001b[37m│\u001b[0m essa tecnologia, sua empresa se posicionará como líder em inovação no seu setor.                                \u001b[37m│\u001b[0m\n",
       "\u001b[37m│\u001b[0m                                                                                                                 \u001b[37m│\u001b[0m\n",
       "\u001b[37m│\u001b[0m Gostaríamos de convidá-lo para uma demonstração personalizada, onde poderemos mostrar como nossa solução pode   \u001b[37m│\u001b[0m\n",
       "\u001b[37m│\u001b[0m ser aplicada especificamente à sua organização. Por favor, responda a este email com sua disponibilidade, e     \u001b[37m│\u001b[0m\n",
       "\u001b[37m│\u001b[0m ficaremos felizes em agendar um horário que seja conveniente para você.                                         \u001b[37m│\u001b[0m\n",
       "\u001b[37m│\u001b[0m                                                                                                                 \u001b[37m│\u001b[0m\n",
       "\u001b[37m│\u001b[0m Agradeço pela atenção e estou ansioso para a oportunidade de colaborar com sua equipe.                          \u001b[37m│\u001b[0m\n",
       "\u001b[37m│\u001b[0m                                                                                                                 \u001b[37m│\u001b[0m\n",
       "\u001b[37m│\u001b[0m Atenciosamente,                                                                                                 \u001b[37m│\u001b[0m\n",
       "\u001b[37m│\u001b[0m                                                                                                                 \u001b[37m│\u001b[0m\n",
       "\u001b[37m│\u001b[0m [Seu Nome]                                                                                                      \u001b[37m│\u001b[0m\n",
       "\u001b[37m│\u001b[0m [Seu Cargo]                                                                                                     \u001b[37m│\u001b[0m\n",
       "\u001b[37m│\u001b[0m [Nome da Empresa]                                                                                               \u001b[37m│\u001b[0m\n",
       "\u001b[37m│\u001b[0m [Telefone]                                                                                                      \u001b[37m│\u001b[0m\n",
       "\u001b[37m│\u001b[0m [Email]                                                                                                         \u001b[37m│\u001b[0m\n",
       "\u001b[37m╰─────────────────────────────────────────────────────────────────────────────────────────────────────────────────╯\u001b[0m\n"
      ]
     },
     "metadata": {},
     "output_type": "display_data"
    }
   ],
   "source": [
    "from utils import format_message, show_prompt\n",
    "\n",
    "show_prompt(prompt)\n",
    "format_message([response])"
   ]
  },
  {
   "cell_type": "markdown",
   "id": "8e1783a7",
   "metadata": {},
   "source": [
    "### Format output"
   ]
  },
  {
   "cell_type": "code",
   "execution_count": 15,
   "id": "cdc5566c",
   "metadata": {
    "tags": []
   },
   "outputs": [],
   "source": [
    "from pydantic import BaseModel, Field\n",
    "\n",
    "class EmailResponse(BaseModel):\n",
    "    customer_email: str = Field(..., description=\"The email content generated for the customer.\")\n",
    "    tips: str = Field(..., description=\"Additional tips for improving the email.\")\n",
    "    chain_of_thought: str = Field(..., description=\"The reasoning process behind the email generation.\")\n",
    "    score: int = Field(..., description=\"A score from 1 to 10 evaluating the quality of the email.\")\n"
   ]
  },
  {
   "cell_type": "code",
   "execution_count": 16,
   "id": "70feec83",
   "metadata": {},
   "outputs": [
    {
     "name": "stdout",
     "output_type": "stream",
     "text": [
      "DONE\n"
     ]
    }
   ],
   "source": [
    "email_writer_chain = (\n",
    "    chat\n",
    "    .with_structured_output(EmailResponse)\n",
    ")\n",
    "\n",
    "prompt.format(\n",
    "    customer_email=customer_email,\n",
    "    style=styles[0],\n",
    "    tone=tones[0],\n",
    "    date=get_today_str()\n",
    ")\n",
    "\n",
    "response = email_writer_chain.invoke([HumanMessage(content=prompt)])\n",
    "print(\"DONE\")"
   ]
  },
  {
   "cell_type": "code",
   "execution_count": 17,
   "id": "d1cd100a",
   "metadata": {},
   "outputs": [
    {
     "data": {
      "text/plain": [
       "EmailResponse(customer_email='Assunto: Proposta de Solução para Aumento de Eficiência Operacional\\n\\nPrezado Sr. Almeida,\\n\\nEspero que este email o encontre bem. Estou entrando em contato para discutir um desafio que muitas empresas enfrentam atualmente: a necessidade de aumentar a eficiência operacional em um ambiente de negócios cada vez mais competitivo.\\n\\nPara abordar essa questão, nossa equipe desenvolveu uma solução inovadora que integra tecnologia de automação com análise de dados em tempo real. Essa abordagem não apenas simplifica processos, mas também proporciona insights valiosos que podem ser utilizados para otimizar a tomada de decisões.\\n\\nOs benefícios dessa solução incluem a redução de custos operacionais, aumento da produtividade e a capacidade de responder rapidamente às mudanças do mercado. Com a implementação dessa tecnologia, sua empresa poderá não apenas se manter competitiva, mas também se destacar em seu setor.\\n\\nGostaria de convidá-lo para agendar uma demonstração, onde poderemos explorar como nossa solução pode ser personalizada para atender às necessidades específicas da sua empresa. Por favor, me avise sobre sua disponibilidade para que possamos marcar um horário conveniente.\\n\\nAgradeço pela atenção e fico à disposição para qualquer dúvida.\\n\\nAtenciosamente,\\n\\nMariana Costa\\nGerente de Vendas\\n[Nome da Empresa]', tips='Certifique-se de personalizar o email com o nome do cliente e da empresa. Além disso, considere incluir um link para agendar a demonstração diretamente, facilitando a ação do cliente.', chain_of_thought='O email foi estruturado de acordo com a solicitação, começando com uma saudação profissional e uma introdução ao problema comum enfrentado por empresas. A solução foi apresentada de forma clara, destacando seus benefícios. A chamada para ação foi incluída para incentivar o cliente a agendar uma demonstração, o que é crucial para o fechamento de negócios. O tom é profissional e confiante, adequado para um cliente corporativo.', score=9)"
      ]
     },
     "execution_count": 17,
     "metadata": {},
     "output_type": "execute_result"
    }
   ],
   "source": [
    "response"
   ]
  },
  {
   "cell_type": "code",
   "execution_count": 18,
   "id": "38d6a0f7",
   "metadata": {},
   "outputs": [
    {
     "name": "stdout",
     "output_type": "stream",
     "text": [
      "Customer Email:\n",
      "Assunto: Proposta de Solução para Aumento de Eficiência Operacional\n",
      "\n",
      "Prezado Sr. Almeida,\n",
      "\n",
      "Espero que este email o encontre bem. Estou entrando em contato para discutir um desafio que muitas empresas enfrentam atualmente: a necessidade de aumentar a eficiência operacional em um ambiente de negócios cada vez mais competitivo.\n",
      "\n",
      "Para abordar essa questão, nossa equipe desenvolveu uma solução inovadora que integra tecnologia de automação com análise de dados em tempo real. Essa abordagem não apenas simplifica processos, mas também proporciona insights valiosos que podem ser utilizados para otimizar a tomada de decisões.\n",
      "\n",
      "Os benefícios dessa solução incluem a redução de custos operacionais, aumento da produtividade e a capacidade de responder rapidamente às mudanças do mercado. Com a implementação dessa tecnologia, sua empresa poderá não apenas se manter competitiva, mas também se destacar em seu setor.\n",
      "\n",
      "Gostaria de convidá-lo para agendar uma demonstração, onde poderemos explorar como nossa solução pode ser personalizada para atender às necessidades específicas da sua empresa. Por favor, me avise sobre sua disponibilidade para que possamos marcar um horário conveniente.\n",
      "\n",
      "Agradeço pela atenção e fico à disposição para qualquer dúvida.\n",
      "\n",
      "Atenciosamente,\n",
      "\n",
      "Mariana Costa\n",
      "Gerente de Vendas\n",
      "[Nome da Empresa]\n",
      "\n",
      "Tips:\n",
      "Certifique-se de personalizar o email com o nome do cliente e da empresa. Além disso, considere incluir um link para agendar a demonstração diretamente, facilitando a ação do cliente.\n",
      "\n",
      "Chain of Thought:\n",
      "O email foi estruturado de acordo com a solicitação, começando com uma saudação profissional e uma introdução ao problema comum enfrentado por empresas. A solução foi apresentada de forma clara, destacando seus benefícios. A chamada para ação foi incluída para incentivar o cliente a agendar uma demonstração, o que é crucial para o fechamento de negócios. O tom é profissional e confiante, adequado para um cliente corporativo.\n",
      "\n",
      "Score:\n",
      "9\n"
     ]
    }
   ],
   "source": [
    "print(\"Customer Email:\")\n",
    "print(response.customer_email)\n",
    "print(\"\\nTips:\")\n",
    "print(response.tips)\n",
    "print(\"\\nChain of Thought:\")\n",
    "print(response.chain_of_thought)\n",
    "print(\"\\nScore:\")\n",
    "print(response.score)"
   ]
  },
  {
   "cell_type": "markdown",
   "id": "897a5e1f",
   "metadata": {},
   "source": [
    "### Exercisio\n",
    "\n",
    "Para aprimorar os resultados obtidos vamos a criar um sistemas multi-agente para conseguir fazer uma análise do problema (reflexão), escrever o email a partir deste plano (escrita) e finalmente avaliar os resultados obtidos (avaliação). \n",
    "\n",
    "- Step 1: Crie os três agentes (Agente reflexão, Agente escrita, Agente avaliação)\n",
    "- Step 2: Crie um pipeline (chain) para gerar os resultados\n",
    "- Step 3: Avalie e intere sobre os resultados obtidos \n"
   ]
  },
  {
   "cell_type": "code",
   "execution_count": null,
   "id": "07747dec",
   "metadata": {},
   "outputs": [],
   "source": []
  },
  {
   "cell_type": "code",
   "execution_count": null,
   "id": "af2f87c5",
   "metadata": {},
   "outputs": [],
   "source": []
  },
  {
   "cell_type": "code",
   "execution_count": null,
   "id": "60d7a7b3",
   "metadata": {},
   "outputs": [],
   "source": []
  }
 ],
 "metadata": {
  "kernelspec": {
   "display_name": "Python 3",
   "language": "python",
   "name": "python3"
  },
  "language_info": {
   "codemirror_mode": {
    "name": "ipython",
    "version": 3
   },
   "file_extension": ".py",
   "mimetype": "text/x-python",
   "name": "python",
   "nbconvert_exporter": "python",
   "pygments_lexer": "ipython3",
   "version": "3.11.14"
  }
 },
 "nbformat": 4,
 "nbformat_minor": 5
}
